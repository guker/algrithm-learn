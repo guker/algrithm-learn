{
 "metadata": {
  "name": "",
  "signature": "sha256:cd1df3fd8b39528e0326da8b3a28ce235a791c6abaa83d2cafde6c5fd2e9c022"
 },
 "nbformat": 3,
 "nbformat_minor": 0,
 "worksheets": [
  {
   "cells": [
    {
     "cell_type": "code",
     "collapsed": false,
     "input": [
      "import pandas as pd\n",
      "import numpy as np\n",
      "import matplotlib.pyplot as plt"
     ],
     "language": "python",
     "metadata": {},
     "outputs": [],
     "prompt_number": 1
    },
    {
     "cell_type": "code",
     "collapsed": false,
     "input": [
      "pd.Series(np.random.randn(5),index=['a','b','c','d','e'])"
     ],
     "language": "python",
     "metadata": {},
     "outputs": [
      {
       "metadata": {},
       "output_type": "pyout",
       "prompt_number": 4,
       "text": [
        "a    1.687937\n",
        "b   -0.652059\n",
        "c   -0.076543\n",
        "d   -0.894619\n",
        "e    0.627206\n",
        "dtype: float64"
       ]
      }
     ],
     "prompt_number": 4
    },
    {
     "cell_type": "code",
     "collapsed": false,
     "input": [
      "pd.Series([1,3,4,np.nan,6])"
     ],
     "language": "python",
     "metadata": {},
     "outputs": [
      {
       "metadata": {},
       "output_type": "pyout",
       "prompt_number": 9,
       "text": [
        "0     1\n",
        "1     3\n",
        "2     4\n",
        "3   NaN\n",
        "4     6\n",
        "dtype: float64"
       ]
      }
     ],
     "prompt_number": 9
    },
    {
     "cell_type": "code",
     "collapsed": false,
     "input": [
      "dates = pd.date_range('20140101',periods=6)"
     ],
     "language": "python",
     "metadata": {},
     "outputs": [],
     "prompt_number": 17
    },
    {
     "cell_type": "code",
     "collapsed": false,
     "input": [
      "dates"
     ],
     "language": "python",
     "metadata": {},
     "outputs": [
      {
       "metadata": {},
       "output_type": "pyout",
       "prompt_number": 11,
       "text": [
        "<class 'pandas.tseries.index.DatetimeIndex'>\n",
        "[2014-01-01, ..., 2014-01-05]\n",
        "Length: 5, Freq: D, Timezone: None"
       ]
      }
     ],
     "prompt_number": 11
    },
    {
     "cell_type": "code",
     "collapsed": false,
     "input": [
      "df = pd.DataFrame(np.random.randn(6,4),index=dates,columns=list('ABCD'))"
     ],
     "language": "python",
     "metadata": {},
     "outputs": [],
     "prompt_number": 18
    },
    {
     "cell_type": "code",
     "collapsed": false,
     "input": [
      "df"
     ],
     "language": "python",
     "metadata": {},
     "outputs": [
      {
       "html": [
        "<div style=\"max-height:1000px;max-width:1500px;overflow:auto;\">\n",
        "<table border=\"1\" class=\"dataframe\">\n",
        "  <thead>\n",
        "    <tr style=\"text-align: right;\">\n",
        "      <th></th>\n",
        "      <th>A</th>\n",
        "      <th>B</th>\n",
        "      <th>C</th>\n",
        "      <th>D</th>\n",
        "    </tr>\n",
        "  </thead>\n",
        "  <tbody>\n",
        "    <tr>\n",
        "      <th>2014-01-01</th>\n",
        "      <td>-0.810049</td>\n",
        "      <td>-1.339454</td>\n",
        "      <td> 0.091751</td>\n",
        "      <td> 0.134433</td>\n",
        "    </tr>\n",
        "    <tr>\n",
        "      <th>2014-01-02</th>\n",
        "      <td>-0.189306</td>\n",
        "      <td>-2.105615</td>\n",
        "      <td> 0.854006</td>\n",
        "      <td> 0.964497</td>\n",
        "    </tr>\n",
        "    <tr>\n",
        "      <th>2014-01-03</th>\n",
        "      <td>-2.281981</td>\n",
        "      <td> 0.227888</td>\n",
        "      <td>-0.858239</td>\n",
        "      <td>-0.267587</td>\n",
        "    </tr>\n",
        "    <tr>\n",
        "      <th>2014-01-04</th>\n",
        "      <td>-0.249004</td>\n",
        "      <td>-1.036178</td>\n",
        "      <td> 1.209430</td>\n",
        "      <td> 1.008816</td>\n",
        "    </tr>\n",
        "    <tr>\n",
        "      <th>2014-01-05</th>\n",
        "      <td>-0.594965</td>\n",
        "      <td>-0.136019</td>\n",
        "      <td> 2.745329</td>\n",
        "      <td>-1.107380</td>\n",
        "    </tr>\n",
        "    <tr>\n",
        "      <th>2014-01-06</th>\n",
        "      <td>-0.170438</td>\n",
        "      <td>-0.522851</td>\n",
        "      <td>-1.108972</td>\n",
        "      <td> 0.620315</td>\n",
        "    </tr>\n",
        "  </tbody>\n",
        "</table>\n",
        "</div>"
       ],
       "metadata": {},
       "output_type": "pyout",
       "prompt_number": 19,
       "text": [
        "                   A         B         C         D\n",
        "2014-01-01 -0.810049 -1.339454  0.091751  0.134433\n",
        "2014-01-02 -0.189306 -2.105615  0.854006  0.964497\n",
        "2014-01-03 -2.281981  0.227888 -0.858239 -0.267587\n",
        "2014-01-04 -0.249004 -1.036178  1.209430  1.008816\n",
        "2014-01-05 -0.594965 -0.136019  2.745329 -1.107380\n",
        "2014-01-06 -0.170438 -0.522851 -1.108972  0.620315"
       ]
      }
     ],
     "prompt_number": 19
    },
    {
     "cell_type": "code",
     "collapsed": false,
     "input": [
      "type(np.random.randn(2,2))"
     ],
     "language": "python",
     "metadata": {},
     "outputs": [
      {
       "metadata": {},
       "output_type": "pyout",
       "prompt_number": 20,
       "text": [
        "numpy.ndarray"
       ]
      }
     ],
     "prompt_number": 20
    },
    {
     "cell_type": "code",
     "collapsed": false,
     "input": [
      "df2 = pd.DataFrame({'A':1.,'B':np.random.randn(4)})"
     ],
     "language": "python",
     "metadata": {},
     "outputs": [],
     "prompt_number": 21
    },
    {
     "cell_type": "code",
     "collapsed": false,
     "input": [
      "df2"
     ],
     "language": "python",
     "metadata": {},
     "outputs": [
      {
       "html": [
        "<div style=\"max-height:1000px;max-width:1500px;overflow:auto;\">\n",
        "<table border=\"1\" class=\"dataframe\">\n",
        "  <thead>\n",
        "    <tr style=\"text-align: right;\">\n",
        "      <th></th>\n",
        "      <th>A</th>\n",
        "      <th>B</th>\n",
        "    </tr>\n",
        "  </thead>\n",
        "  <tbody>\n",
        "    <tr>\n",
        "      <th>0</th>\n",
        "      <td> 1</td>\n",
        "      <td> 1.607716</td>\n",
        "    </tr>\n",
        "    <tr>\n",
        "      <th>1</th>\n",
        "      <td> 1</td>\n",
        "      <td>-0.004320</td>\n",
        "    </tr>\n",
        "    <tr>\n",
        "      <th>2</th>\n",
        "      <td> 1</td>\n",
        "      <td> 0.667052</td>\n",
        "    </tr>\n",
        "    <tr>\n",
        "      <th>3</th>\n",
        "      <td> 1</td>\n",
        "      <td> 1.745640</td>\n",
        "    </tr>\n",
        "  </tbody>\n",
        "</table>\n",
        "</div>"
       ],
       "metadata": {},
       "output_type": "pyout",
       "prompt_number": 22,
       "text": [
        "   A         B\n",
        "0  1  1.607716\n",
        "1  1 -0.004320\n",
        "2  1  0.667052\n",
        "3  1  1.745640"
       ]
      }
     ],
     "prompt_number": 22
    },
    {
     "cell_type": "code",
     "collapsed": false,
     "input": [
      "df2.dtypes"
     ],
     "language": "python",
     "metadata": {},
     "outputs": [
      {
       "metadata": {},
       "output_type": "pyout",
       "prompt_number": 24,
       "text": [
        "A    float64\n",
        "B    float64\n",
        "dtype: object"
       ]
      }
     ],
     "prompt_number": 24
    },
    {
     "cell_type": "code",
     "collapsed": false,
     "input": [
      "df.tail(2)"
     ],
     "language": "python",
     "metadata": {},
     "outputs": [
      {
       "html": [
        "<div style=\"max-height:1000px;max-width:1500px;overflow:auto;\">\n",
        "<table border=\"1\" class=\"dataframe\">\n",
        "  <thead>\n",
        "    <tr style=\"text-align: right;\">\n",
        "      <th></th>\n",
        "      <th>A</th>\n",
        "      <th>B</th>\n",
        "      <th>C</th>\n",
        "      <th>D</th>\n",
        "    </tr>\n",
        "  </thead>\n",
        "  <tbody>\n",
        "    <tr>\n",
        "      <th>2014-01-05</th>\n",
        "      <td>-0.594965</td>\n",
        "      <td>-0.136019</td>\n",
        "      <td> 2.745329</td>\n",
        "      <td>-1.107380</td>\n",
        "    </tr>\n",
        "    <tr>\n",
        "      <th>2014-01-06</th>\n",
        "      <td>-0.170438</td>\n",
        "      <td>-0.522851</td>\n",
        "      <td>-1.108972</td>\n",
        "      <td> 0.620315</td>\n",
        "    </tr>\n",
        "  </tbody>\n",
        "</table>\n",
        "</div>"
       ],
       "metadata": {},
       "output_type": "pyout",
       "prompt_number": 28,
       "text": [
        "                   A         B         C         D\n",
        "2014-01-05 -0.594965 -0.136019  2.745329 -1.107380\n",
        "2014-01-06 -0.170438 -0.522851 -1.108972  0.620315"
       ]
      }
     ],
     "prompt_number": 28
    },
    {
     "cell_type": "code",
     "collapsed": false,
     "input": [
      "df.index"
     ],
     "language": "python",
     "metadata": {},
     "outputs": [
      {
       "metadata": {},
       "output_type": "pyout",
       "prompt_number": 29,
       "text": [
        "<class 'pandas.tseries.index.DatetimeIndex'>\n",
        "[2014-01-01, ..., 2014-01-06]\n",
        "Length: 6, Freq: D, Timezone: None"
       ]
      }
     ],
     "prompt_number": 29
    },
    {
     "cell_type": "code",
     "collapsed": false,
     "input": [
      "df.values"
     ],
     "language": "python",
     "metadata": {},
     "outputs": [
      {
       "metadata": {},
       "output_type": "pyout",
       "prompt_number": 33,
       "text": [
        "array([[-0.81004883, -1.33945351,  0.09175061,  0.13443337],\n",
        "       [-0.18930594, -2.1056154 ,  0.8540061 ,  0.96449694],\n",
        "       [-2.28198084,  0.22788825, -0.85823852, -0.26758747],\n",
        "       [-0.24900389, -1.03617825,  1.20943019,  1.0088158 ],\n",
        "       [-0.59496508, -0.13601885,  2.74532909, -1.10738019],\n",
        "       [-0.17043813, -0.52285134, -1.10897246,  0.62031517]])"
       ]
      }
     ],
     "prompt_number": 33
    },
    {
     "cell_type": "code",
     "collapsed": false,
     "input": [
      "df.describe()"
     ],
     "language": "python",
     "metadata": {},
     "outputs": [
      {
       "html": [
        "<div style=\"max-height:1000px;max-width:1500px;overflow:auto;\">\n",
        "<table border=\"1\" class=\"dataframe\">\n",
        "  <thead>\n",
        "    <tr style=\"text-align: right;\">\n",
        "      <th></th>\n",
        "      <th>A</th>\n",
        "      <th>B</th>\n",
        "      <th>C</th>\n",
        "      <th>D</th>\n",
        "    </tr>\n",
        "  </thead>\n",
        "  <tbody>\n",
        "    <tr>\n",
        "      <th>count</th>\n",
        "      <td> 6.000000</td>\n",
        "      <td> 6.000000</td>\n",
        "      <td> 6.000000</td>\n",
        "      <td> 6.000000</td>\n",
        "    </tr>\n",
        "    <tr>\n",
        "      <th>mean</th>\n",
        "      <td>-0.715957</td>\n",
        "      <td>-0.818705</td>\n",
        "      <td> 0.488884</td>\n",
        "      <td> 0.225516</td>\n",
        "    </tr>\n",
        "    <tr>\n",
        "      <th>std</th>\n",
        "      <td> 0.808569</td>\n",
        "      <td> 0.851300</td>\n",
        "      <td> 1.433153</td>\n",
        "      <td> 0.817750</td>\n",
        "    </tr>\n",
        "    <tr>\n",
        "      <th>min</th>\n",
        "      <td>-2.281981</td>\n",
        "      <td>-2.105615</td>\n",
        "      <td>-1.108972</td>\n",
        "      <td>-1.107380</td>\n",
        "    </tr>\n",
        "    <tr>\n",
        "      <th>25%</th>\n",
        "      <td>-0.756278</td>\n",
        "      <td>-1.263635</td>\n",
        "      <td>-0.620741</td>\n",
        "      <td>-0.167082</td>\n",
        "    </tr>\n",
        "    <tr>\n",
        "      <th>50%</th>\n",
        "      <td>-0.421984</td>\n",
        "      <td>-0.779515</td>\n",
        "      <td> 0.472878</td>\n",
        "      <td> 0.377374</td>\n",
        "    </tr>\n",
        "    <tr>\n",
        "      <th>75%</th>\n",
        "      <td>-0.204230</td>\n",
        "      <td>-0.232727</td>\n",
        "      <td> 1.120574</td>\n",
        "      <td> 0.878451</td>\n",
        "    </tr>\n",
        "    <tr>\n",
        "      <th>max</th>\n",
        "      <td>-0.170438</td>\n",
        "      <td> 0.227888</td>\n",
        "      <td> 2.745329</td>\n",
        "      <td> 1.008816</td>\n",
        "    </tr>\n",
        "  </tbody>\n",
        "</table>\n",
        "</div>"
       ],
       "metadata": {},
       "output_type": "pyout",
       "prompt_number": 34,
       "text": [
        "              A         B         C         D\n",
        "count  6.000000  6.000000  6.000000  6.000000\n",
        "mean  -0.715957 -0.818705  0.488884  0.225516\n",
        "std    0.808569  0.851300  1.433153  0.817750\n",
        "min   -2.281981 -2.105615 -1.108972 -1.107380\n",
        "25%   -0.756278 -1.263635 -0.620741 -0.167082\n",
        "50%   -0.421984 -0.779515  0.472878  0.377374\n",
        "75%   -0.204230 -0.232727  1.120574  0.878451\n",
        "max   -0.170438  0.227888  2.745329  1.008816"
       ]
      }
     ],
     "prompt_number": 34
    },
    {
     "cell_type": "code",
     "collapsed": false,
     "input": [
      "df.T"
     ],
     "language": "python",
     "metadata": {},
     "outputs": [
      {
       "html": [
        "<div style=\"max-height:1000px;max-width:1500px;overflow:auto;\">\n",
        "<table border=\"1\" class=\"dataframe\">\n",
        "  <thead>\n",
        "    <tr style=\"text-align: right;\">\n",
        "      <th></th>\n",
        "      <th>2014-01-01 00:00:00</th>\n",
        "      <th>2014-01-02 00:00:00</th>\n",
        "      <th>2014-01-03 00:00:00</th>\n",
        "      <th>2014-01-04 00:00:00</th>\n",
        "      <th>2014-01-05 00:00:00</th>\n",
        "      <th>2014-01-06 00:00:00</th>\n",
        "    </tr>\n",
        "  </thead>\n",
        "  <tbody>\n",
        "    <tr>\n",
        "      <th>A</th>\n",
        "      <td>-0.810049</td>\n",
        "      <td>-0.189306</td>\n",
        "      <td>-2.281981</td>\n",
        "      <td>-0.249004</td>\n",
        "      <td>-0.594965</td>\n",
        "      <td>-0.170438</td>\n",
        "    </tr>\n",
        "    <tr>\n",
        "      <th>B</th>\n",
        "      <td>-1.339454</td>\n",
        "      <td>-2.105615</td>\n",
        "      <td> 0.227888</td>\n",
        "      <td>-1.036178</td>\n",
        "      <td>-0.136019</td>\n",
        "      <td>-0.522851</td>\n",
        "    </tr>\n",
        "    <tr>\n",
        "      <th>C</th>\n",
        "      <td> 0.091751</td>\n",
        "      <td> 0.854006</td>\n",
        "      <td>-0.858239</td>\n",
        "      <td> 1.209430</td>\n",
        "      <td> 2.745329</td>\n",
        "      <td>-1.108972</td>\n",
        "    </tr>\n",
        "    <tr>\n",
        "      <th>D</th>\n",
        "      <td> 0.134433</td>\n",
        "      <td> 0.964497</td>\n",
        "      <td>-0.267587</td>\n",
        "      <td> 1.008816</td>\n",
        "      <td>-1.107380</td>\n",
        "      <td> 0.620315</td>\n",
        "    </tr>\n",
        "  </tbody>\n",
        "</table>\n",
        "</div>"
       ],
       "metadata": {},
       "output_type": "pyout",
       "prompt_number": 35,
       "text": [
        "   2014-01-01  2014-01-02  2014-01-03  2014-01-04  2014-01-05  2014-01-06\n",
        "A   -0.810049   -0.189306   -2.281981   -0.249004   -0.594965   -0.170438\n",
        "B   -1.339454   -2.105615    0.227888   -1.036178   -0.136019   -0.522851\n",
        "C    0.091751    0.854006   -0.858239    1.209430    2.745329   -1.108972\n",
        "D    0.134433    0.964497   -0.267587    1.008816   -1.107380    0.620315"
       ]
      }
     ],
     "prompt_number": 35
    },
    {
     "cell_type": "code",
     "collapsed": false,
     "input": [
      "df.sort_index(axis=1,ascending=False)"
     ],
     "language": "python",
     "metadata": {},
     "outputs": [
      {
       "html": [
        "<div style=\"max-height:1000px;max-width:1500px;overflow:auto;\">\n",
        "<table border=\"1\" class=\"dataframe\">\n",
        "  <thead>\n",
        "    <tr style=\"text-align: right;\">\n",
        "      <th></th>\n",
        "      <th>D</th>\n",
        "      <th>C</th>\n",
        "      <th>B</th>\n",
        "      <th>A</th>\n",
        "    </tr>\n",
        "  </thead>\n",
        "  <tbody>\n",
        "    <tr>\n",
        "      <th>2014-01-01</th>\n",
        "      <td> 0.134433</td>\n",
        "      <td> 0.091751</td>\n",
        "      <td>-1.339454</td>\n",
        "      <td>-0.810049</td>\n",
        "    </tr>\n",
        "    <tr>\n",
        "      <th>2014-01-02</th>\n",
        "      <td> 0.964497</td>\n",
        "      <td> 0.854006</td>\n",
        "      <td>-2.105615</td>\n",
        "      <td>-0.189306</td>\n",
        "    </tr>\n",
        "    <tr>\n",
        "      <th>2014-01-03</th>\n",
        "      <td>-0.267587</td>\n",
        "      <td>-0.858239</td>\n",
        "      <td> 0.227888</td>\n",
        "      <td>-2.281981</td>\n",
        "    </tr>\n",
        "    <tr>\n",
        "      <th>2014-01-04</th>\n",
        "      <td> 1.008816</td>\n",
        "      <td> 1.209430</td>\n",
        "      <td>-1.036178</td>\n",
        "      <td>-0.249004</td>\n",
        "    </tr>\n",
        "    <tr>\n",
        "      <th>2014-01-05</th>\n",
        "      <td>-1.107380</td>\n",
        "      <td> 2.745329</td>\n",
        "      <td>-0.136019</td>\n",
        "      <td>-0.594965</td>\n",
        "    </tr>\n",
        "    <tr>\n",
        "      <th>2014-01-06</th>\n",
        "      <td> 0.620315</td>\n",
        "      <td>-1.108972</td>\n",
        "      <td>-0.522851</td>\n",
        "      <td>-0.170438</td>\n",
        "    </tr>\n",
        "  </tbody>\n",
        "</table>\n",
        "</div>"
       ],
       "metadata": {},
       "output_type": "pyout",
       "prompt_number": 40,
       "text": [
        "                   D         C         B         A\n",
        "2014-01-01  0.134433  0.091751 -1.339454 -0.810049\n",
        "2014-01-02  0.964497  0.854006 -2.105615 -0.189306\n",
        "2014-01-03 -0.267587 -0.858239  0.227888 -2.281981\n",
        "2014-01-04  1.008816  1.209430 -1.036178 -0.249004\n",
        "2014-01-05 -1.107380  2.745329 -0.136019 -0.594965\n",
        "2014-01-06  0.620315 -1.108972 -0.522851 -0.170438"
       ]
      }
     ],
     "prompt_number": 40
    },
    {
     "cell_type": "code",
     "collapsed": false,
     "input": [
      "df.sort(columns='B')"
     ],
     "language": "python",
     "metadata": {},
     "outputs": [
      {
       "html": [
        "<div style=\"max-height:1000px;max-width:1500px;overflow:auto;\">\n",
        "<table border=\"1\" class=\"dataframe\">\n",
        "  <thead>\n",
        "    <tr style=\"text-align: right;\">\n",
        "      <th></th>\n",
        "      <th>A</th>\n",
        "      <th>B</th>\n",
        "      <th>C</th>\n",
        "      <th>D</th>\n",
        "    </tr>\n",
        "  </thead>\n",
        "  <tbody>\n",
        "    <tr>\n",
        "      <th>2014-01-02</th>\n",
        "      <td>-0.189306</td>\n",
        "      <td>-2.105615</td>\n",
        "      <td> 0.854006</td>\n",
        "      <td> 0.964497</td>\n",
        "    </tr>\n",
        "    <tr>\n",
        "      <th>2014-01-01</th>\n",
        "      <td>-0.810049</td>\n",
        "      <td>-1.339454</td>\n",
        "      <td> 0.091751</td>\n",
        "      <td> 0.134433</td>\n",
        "    </tr>\n",
        "    <tr>\n",
        "      <th>2014-01-04</th>\n",
        "      <td>-0.249004</td>\n",
        "      <td>-1.036178</td>\n",
        "      <td> 1.209430</td>\n",
        "      <td> 1.008816</td>\n",
        "    </tr>\n",
        "    <tr>\n",
        "      <th>2014-01-06</th>\n",
        "      <td>-0.170438</td>\n",
        "      <td>-0.522851</td>\n",
        "      <td>-1.108972</td>\n",
        "      <td> 0.620315</td>\n",
        "    </tr>\n",
        "    <tr>\n",
        "      <th>2014-01-05</th>\n",
        "      <td>-0.594965</td>\n",
        "      <td>-0.136019</td>\n",
        "      <td> 2.745329</td>\n",
        "      <td>-1.107380</td>\n",
        "    </tr>\n",
        "    <tr>\n",
        "      <th>2014-01-03</th>\n",
        "      <td>-2.281981</td>\n",
        "      <td> 0.227888</td>\n",
        "      <td>-0.858239</td>\n",
        "      <td>-0.267587</td>\n",
        "    </tr>\n",
        "  </tbody>\n",
        "</table>\n",
        "</div>"
       ],
       "metadata": {},
       "output_type": "pyout",
       "prompt_number": 41,
       "text": [
        "                   A         B         C         D\n",
        "2014-01-02 -0.189306 -2.105615  0.854006  0.964497\n",
        "2014-01-01 -0.810049 -1.339454  0.091751  0.134433\n",
        "2014-01-04 -0.249004 -1.036178  1.209430  1.008816\n",
        "2014-01-06 -0.170438 -0.522851 -1.108972  0.620315\n",
        "2014-01-05 -0.594965 -0.136019  2.745329 -1.107380\n",
        "2014-01-03 -2.281981  0.227888 -0.858239 -0.267587"
       ]
      }
     ],
     "prompt_number": 41
    },
    {
     "cell_type": "code",
     "collapsed": false,
     "input": [
      "df2['A'][0]=np.nan"
     ],
     "language": "python",
     "metadata": {},
     "outputs": [],
     "prompt_number": 51
    },
    {
     "cell_type": "code",
     "collapsed": false,
     "input": [
      "df2"
     ],
     "language": "python",
     "metadata": {},
     "outputs": [
      {
       "html": [
        "<div style=\"max-height:1000px;max-width:1500px;overflow:auto;\">\n",
        "<table border=\"1\" class=\"dataframe\">\n",
        "  <thead>\n",
        "    <tr style=\"text-align: right;\">\n",
        "      <th></th>\n",
        "      <th>A</th>\n",
        "      <th>B</th>\n",
        "      <th>(A, 0)</th>\n",
        "      <th>(A, 1)</th>\n",
        "    </tr>\n",
        "  </thead>\n",
        "  <tbody>\n",
        "    <tr>\n",
        "      <th>0</th>\n",
        "      <td>NaN</td>\n",
        "      <td> 1.607716</td>\n",
        "      <td>NaN</td>\n",
        "      <td>NaN</td>\n",
        "    </tr>\n",
        "    <tr>\n",
        "      <th>1</th>\n",
        "      <td>  1</td>\n",
        "      <td>-0.004320</td>\n",
        "      <td>NaN</td>\n",
        "      <td>NaN</td>\n",
        "    </tr>\n",
        "    <tr>\n",
        "      <th>2</th>\n",
        "      <td>  1</td>\n",
        "      <td> 0.667052</td>\n",
        "      <td>NaN</td>\n",
        "      <td>NaN</td>\n",
        "    </tr>\n",
        "    <tr>\n",
        "      <th>3</th>\n",
        "      <td>  1</td>\n",
        "      <td> 1.745640</td>\n",
        "      <td>NaN</td>\n",
        "      <td>NaN</td>\n",
        "    </tr>\n",
        "  </tbody>\n",
        "</table>\n",
        "</div>"
       ],
       "metadata": {},
       "output_type": "pyout",
       "prompt_number": 52,
       "text": [
        "    A         B  (A, 0)  (A, 1)\n",
        "0 NaN  1.607716     NaN     NaN\n",
        "1   1 -0.004320     NaN     NaN\n",
        "2   1  0.667052     NaN     NaN\n",
        "3   1  1.745640     NaN     NaN"
       ]
      }
     ],
     "prompt_number": 52
    },
    {
     "cell_type": "code",
     "collapsed": false,
     "input": [
      "print df2.fillna(4)"
     ],
     "language": "python",
     "metadata": {},
     "outputs": [
      {
       "output_type": "stream",
       "stream": "stdout",
       "text": [
        "   A         B  (A, 0)  (A, 1)\n",
        "0  4  1.607716       4       4\n",
        "1  1 -0.004320       4       4\n",
        "2  1  0.667052       4       4\n",
        "3  1  1.745640       4       4\n"
       ]
      }
     ],
     "prompt_number": 61
    },
    {
     "cell_type": "code",
     "collapsed": false,
     "input": [
      "pd.isnull(df2)"
     ],
     "language": "python",
     "metadata": {},
     "outputs": [
      {
       "html": [
        "<div style=\"max-height:1000px;max-width:1500px;overflow:auto;\">\n",
        "<table border=\"1\" class=\"dataframe\">\n",
        "  <thead>\n",
        "    <tr style=\"text-align: right;\">\n",
        "      <th></th>\n",
        "      <th>A</th>\n",
        "      <th>B</th>\n",
        "      <th>(A, 0)</th>\n",
        "      <th>(A, 1)</th>\n",
        "    </tr>\n",
        "  </thead>\n",
        "  <tbody>\n",
        "    <tr>\n",
        "      <th>0</th>\n",
        "      <td>  True</td>\n",
        "      <td> False</td>\n",
        "      <td> True</td>\n",
        "      <td> True</td>\n",
        "    </tr>\n",
        "    <tr>\n",
        "      <th>1</th>\n",
        "      <td> False</td>\n",
        "      <td> False</td>\n",
        "      <td> True</td>\n",
        "      <td> True</td>\n",
        "    </tr>\n",
        "    <tr>\n",
        "      <th>2</th>\n",
        "      <td> False</td>\n",
        "      <td> False</td>\n",
        "      <td> True</td>\n",
        "      <td> True</td>\n",
        "    </tr>\n",
        "    <tr>\n",
        "      <th>3</th>\n",
        "      <td> False</td>\n",
        "      <td> False</td>\n",
        "      <td> True</td>\n",
        "      <td> True</td>\n",
        "    </tr>\n",
        "  </tbody>\n",
        "</table>\n",
        "</div>"
       ],
       "metadata": {},
       "output_type": "pyout",
       "prompt_number": 62,
       "text": [
        "       A      B (A, 0) (A, 1)\n",
        "0   True  False   True   True\n",
        "1  False  False   True   True\n",
        "2  False  False   True   True\n",
        "3  False  False   True   True"
       ]
      }
     ],
     "prompt_number": 62
    },
    {
     "cell_type": "code",
     "collapsed": false,
     "input": [
      "df.mean(0)"
     ],
     "language": "python",
     "metadata": {},
     "outputs": [
      {
       "metadata": {},
       "output_type": "pyout",
       "prompt_number": 65,
       "text": [
        "A   -0.715957\n",
        "B   -0.818705\n",
        "C    0.488884\n",
        "D    0.225516\n",
        "dtype: float64"
       ]
      }
     ],
     "prompt_number": 65
    },
    {
     "cell_type": "code",
     "collapsed": false,
     "input": [
      "pd.Series([1,3,5,np.nan,6,8],index=dates).shift(-2)"
     ],
     "language": "python",
     "metadata": {},
     "outputs": [
      {
       "metadata": {},
       "output_type": "pyout",
       "prompt_number": 67,
       "text": [
        "2014-01-01     5\n",
        "2014-01-02   NaN\n",
        "2014-01-03     6\n",
        "2014-01-04     8\n",
        "2014-01-05   NaN\n",
        "2014-01-06   NaN\n",
        "Freq: D, dtype: float64"
       ]
      }
     ],
     "prompt_number": 67
    },
    {
     "cell_type": "code",
     "collapsed": false,
     "input": [
      "df.apply(np.cumsum)"
     ],
     "language": "python",
     "metadata": {},
     "outputs": [
      {
       "html": [
        "<div style=\"max-height:1000px;max-width:1500px;overflow:auto;\">\n",
        "<table border=\"1\" class=\"dataframe\">\n",
        "  <thead>\n",
        "    <tr style=\"text-align: right;\">\n",
        "      <th></th>\n",
        "      <th>A</th>\n",
        "      <th>B</th>\n",
        "      <th>C</th>\n",
        "      <th>D</th>\n",
        "    </tr>\n",
        "  </thead>\n",
        "  <tbody>\n",
        "    <tr>\n",
        "      <th>2014-01-01</th>\n",
        "      <td>-0.810049</td>\n",
        "      <td>-1.339454</td>\n",
        "      <td> 0.091751</td>\n",
        "      <td> 0.134433</td>\n",
        "    </tr>\n",
        "    <tr>\n",
        "      <th>2014-01-02</th>\n",
        "      <td>-0.999355</td>\n",
        "      <td>-3.445069</td>\n",
        "      <td> 0.945757</td>\n",
        "      <td> 1.098930</td>\n",
        "    </tr>\n",
        "    <tr>\n",
        "      <th>2014-01-03</th>\n",
        "      <td>-3.281336</td>\n",
        "      <td>-3.217181</td>\n",
        "      <td> 0.087518</td>\n",
        "      <td> 0.831343</td>\n",
        "    </tr>\n",
        "    <tr>\n",
        "      <th>2014-01-04</th>\n",
        "      <td>-3.530340</td>\n",
        "      <td>-4.253359</td>\n",
        "      <td> 1.296948</td>\n",
        "      <td> 1.840159</td>\n",
        "    </tr>\n",
        "    <tr>\n",
        "      <th>2014-01-05</th>\n",
        "      <td>-4.125305</td>\n",
        "      <td>-4.389378</td>\n",
        "      <td> 4.042277</td>\n",
        "      <td> 0.732778</td>\n",
        "    </tr>\n",
        "    <tr>\n",
        "      <th>2014-01-06</th>\n",
        "      <td>-4.295743</td>\n",
        "      <td>-4.912229</td>\n",
        "      <td> 2.933305</td>\n",
        "      <td> 1.353094</td>\n",
        "    </tr>\n",
        "  </tbody>\n",
        "</table>\n",
        "</div>"
       ],
       "metadata": {},
       "output_type": "pyout",
       "prompt_number": 68,
       "text": [
        "                   A         B         C         D\n",
        "2014-01-01 -0.810049 -1.339454  0.091751  0.134433\n",
        "2014-01-02 -0.999355 -3.445069  0.945757  1.098930\n",
        "2014-01-03 -3.281336 -3.217181  0.087518  0.831343\n",
        "2014-01-04 -3.530340 -4.253359  1.296948  1.840159\n",
        "2014-01-05 -4.125305 -4.389378  4.042277  0.732778\n",
        "2014-01-06 -4.295743 -4.912229  2.933305  1.353094"
       ]
      }
     ],
     "prompt_number": 68
    },
    {
     "cell_type": "code",
     "collapsed": false,
     "input": [
      "np.cumsum(np.arange(10))"
     ],
     "language": "python",
     "metadata": {},
     "outputs": [
      {
       "metadata": {},
       "output_type": "pyout",
       "prompt_number": 83,
       "text": [
        "array([ 0,  1,  3,  6, 10, 15, 21, 28, 36, 45])"
       ]
      }
     ],
     "prompt_number": 83
    },
    {
     "cell_type": "code",
     "collapsed": false,
     "input": [
      "n=1000\n",
      "ts = pd.Series(np.random.randn(n), index=pd.date_range('2010-10-01',periods=n))\n",
      "ts = ts.cumsum()\n",
      "ts.plot()"
     ],
     "language": "python",
     "metadata": {},
     "outputs": [
      {
       "metadata": {},
       "output_type": "pyout",
       "prompt_number": 93,
       "text": [
        "<matplotlib.axes.AxesSubplot at 0x6a7adf0>"
       ]
      },
      {
       "metadata": {},
       "output_type": "display_data",
       "png": "[encoded data removed]",
       "text": [
        "<matplotlib.figure.Figure at 0x6689250>"
       ]
      }
     ],
     "prompt_number": 93
    },
    {
     "cell_type": "code",
     "collapsed": false,
     "input": [],
     "language": "python",
     "metadata": {},
     "outputs": [
      {
       "metadata": {},
       "output_type": "pyout",
       "prompt_number": 89,
       "text": [
        "<matplotlib.axes.AxesSubplot at 0x49ac210>"
       ]
      },
      {
       "metadata": {},
       "output_type": "display_data",
       "png": "[encoded data removed]",
       "text": [
        "<matplotlib.figure.Figure at 0x60643f0>"
       ]
      }
     ],
     "prompt_number": 89
    },
    {
     "cell_type": "code",
     "collapsed": false,
     "input": [
      "df.plot()"
     ],
     "language": "python",
     "metadata": {},
     "outputs": [
      {
       "metadata": {},
       "output_type": "pyout",
       "prompt_number": 95,
       "text": [
        "<matplotlib.axes.AxesSubplot at 0x6675510>"
       ]
      },
      {
       "metadata": {},
       "output_type": "display_data",
       "png": "[encoded data removed]",
       "text": [
        "<matplotlib.figure.Figure at 0x69fc410>"
       ]
      }
     ],
     "prompt_number": 95
    },
    {
     "cell_type": "code",
     "collapsed": false,
     "input": [
      "df.to_json()"
     ],
     "language": "python",
     "metadata": {},
     "outputs": [
      {
       "metadata": {},
       "output_type": "pyout",
       "prompt_number": 96,
       "text": [
        "'{\"A\":{\"1388534400000\":-0.8100488346,\"1388620800000\":-0.1893059406,\"1388707200000\":-2.2819808387,\"1388793600000\":-0.2490038903,\"1388880000000\":-0.5949650814,\"1388966400000\":-0.1704381327},\"B\":{\"1388534400000\":-1.3394535096,\"1388620800000\":-2.1056153999,\"1388707200000\":0.2278882499,\"1388793600000\":-1.0361782489,\"1388880000000\":-0.136018853,\"1388966400000\":-0.5228513358},\"C\":{\"1388534400000\":0.0917506078,\"1388620800000\":0.8540060958,\"1388707200000\":-0.8582385237,\"1388793600000\":1.2094301895,\"1388880000000\":2.7453290857,\"1388966400000\":-1.1089724566},\"D\":{\"1388534400000\":0.134433365,\"1388620800000\":0.9644969386,\"1388707200000\":-0.2675874742,\"1388793600000\":1.0088158027,\"1388880000000\":-1.1073801864,\"1388966400000\":0.6203151726}}'"
       ]
      }
     ],
     "prompt_number": 96
    },
    {
     "cell_type": "code",
     "collapsed": false,
     "input": [],
     "language": "python",
     "metadata": {},
     "outputs": []
    }
   ],
   "metadata": {}
  }
 ]
}